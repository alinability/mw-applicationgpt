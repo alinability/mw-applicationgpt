{
 "cells": [
  {
   "cell_type": "code",
   "execution_count": 1,
   "id": "00567662-db55-438d-957f-a6c89015a46a",
   "metadata": {},
   "outputs": [],
   "source": [
    " # main"
   ]
  },
  {
   "cell_type": "code",
   "execution_count": 2,
   "id": "df98193f-c84f-482f-8777-4295f75db8c3",
   "metadata": {},
   "outputs": [],
   "source": [
    "import sys\n",
    "import os\n",
    "\n",
    "# Projektordner app zum Suchpfad hinzufügen\n",
    "sys.path.append(os.path.abspath(\"../\"))\n",
    "\n",
    "from main import main"
   ]
  },
  {
   "cell_type": "code",
   "execution_count": 3,
   "id": "9c88c78c-b27f-4fc6-8754-004c02841906",
   "metadata": {},
   "outputs": [
    {
     "name": "stdout",
     "output_type": "stream",
     "text": [
      "📄 Gefundene CSV-Dateien: 1\n",
      "📄 Gefundene PDF-Dateien: 3\n",
      "📂 Chroma-Verzeichnis gefunden. Vorhandene Daten werden geladen.\n",
      "✅ Es wurden 34 Berufserfahrungen erkannt. Der Zeitraum erstreckt sich von January 2010 bis July 2025 (5662 Tage).\n",
      "✅ Qualitätsprüfung bestanden.\n",
      "⚠️ Keine neuen Dokumente hinzugefügt (alle bereits vorhanden?).\n",
      "✅ PDF und CSV-Dateien erfolgreich verarbeitet und ins RAG eingefügt.\n",
      "✅ Die Stellenauschreibung wurde erkannt.\n",
      "✅ PDF-Inhalt wurde erfolgreich reduziert.\n",
      "✅ HTML-Kurzprofil gespeichert unter: ../output/Kurzprofil_Marcel_Russ_job_posting_1.html\n",
      "✅ Die Stellenauschreibung wurde erkannt.\n",
      "✅ PDF-Inhalt wurde erfolgreich reduziert.\n",
      "✅ HTML-Kurzprofil gespeichert unter: ../output/Kurzprofil_Marcel_Russ_job_posting_3.html\n",
      "✅ Die Stellenauschreibung wurde erkannt.\n",
      "✅ PDF-Inhalt wurde erfolgreich reduziert.\n",
      "✅ HTML-Kurzprofil gespeichert unter: ../output/Kurzprofil_Marcel_Russ_job_posting_2.html\n"
     ]
    }
   ],
   "source": [
    "main()"
   ]
  },
  {
   "cell_type": "code",
   "execution_count": null,
   "id": "c2275a46-87ff-45ce-a417-20aa2fc8009a",
   "metadata": {},
   "outputs": [],
   "source": []
  },
  {
   "cell_type": "code",
   "execution_count": null,
   "id": "eb417e0f-ee7c-4fb8-a2be-b519008cc26e",
   "metadata": {},
   "outputs": [],
   "source": []
  },
  {
   "cell_type": "code",
   "execution_count": null,
   "id": "8b03d2b9-f00a-459f-b416-c0de1242470b",
   "metadata": {},
   "outputs": [],
   "source": []
  }
 ],
 "metadata": {
  "kernelspec": {
   "display_name": "Python 3 (ipykernel)",
   "language": "python",
   "name": "python3"
  },
  "language_info": {
   "codemirror_mode": {
    "name": "ipython",
    "version": 3
   },
   "file_extension": ".py",
   "mimetype": "text/x-python",
   "name": "python",
   "nbconvert_exporter": "python",
   "pygments_lexer": "ipython3",
   "version": "3.11.13"
  }
 },
 "nbformat": 4,
 "nbformat_minor": 5
}
