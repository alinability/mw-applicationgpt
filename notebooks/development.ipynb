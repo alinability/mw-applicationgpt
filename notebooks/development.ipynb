{
 "cells": [
  {
   "cell_type": "code",
   "execution_count": 1,
   "id": "00567662-db55-438d-957f-a6c89015a46a",
   "metadata": {},
   "outputs": [],
   "source": [
    " # main"
   ]
  },
  {
   "cell_type": "code",
   "execution_count": 1,
   "id": "df98193f-c84f-482f-8777-4295f75db8c3",
   "metadata": {},
   "outputs": [],
   "source": [
    "import sys\n",
    "from pathlib import Path\n",
    "\n",
    "PROJECT_ROOT = Path.cwd().parent.resolve()\n",
    "sys.path.insert(0, str(PROJECT_ROOT))\n",
    "\n",
    "from main import main"
   ]
  },
  {
   "cell_type": "code",
   "execution_count": 2,
   "id": "9c88c78c-b27f-4fc6-8754-004c02841906",
   "metadata": {},
   "outputs": [
    {
     "name": "stdout",
     "output_type": "stream",
     "text": [
      "📄 Gefundene CSV-Dateien: 1\n",
      "📄 Gefundene PDF-Dateien: 1\n",
      "🔄 Lade aus bestehender Collection.\n",
      "📂 Chroma-Verzeichnis gefunden. Vorhandene Daten werden geladen.\n",
      "📨 Bearbeite Stellenanzeige: Ausschreibung_EnBw\n",
      "🔄 Verwende gecachte Reduktion.\n",
      "🎯 Passgenauigkeit laut ChatGPT: 58%\n",
      "✅ Referenzen gespeichert unter: output/Ausschreibung_EnBw_references.txt\n",
      "✅ HTML-Kurzprofil gespeichert unter: output/Kurzprofil_Marcel_Russ_Ausschreibung_EnBw.html\n"
     ]
    }
   ],
   "source": [
    "main()"
   ]
  },
  {
   "cell_type": "code",
   "execution_count": null,
   "id": "697b3e00-9e73-4512-91dd-fb10845a881e",
   "metadata": {},
   "outputs": [],
   "source": []
  }
 ],
 "metadata": {
  "kernelspec": {
   "display_name": "Python 3 (ipykernel)",
   "language": "python",
   "name": "python3"
  },
  "language_info": {
   "codemirror_mode": {
    "name": "ipython",
    "version": 3
   },
   "file_extension": ".py",
   "mimetype": "text/x-python",
   "name": "python",
   "nbconvert_exporter": "python",
   "pygments_lexer": "ipython3",
   "version": "3.11.13"
  }
 },
 "nbformat": 4,
 "nbformat_minor": 5
}
