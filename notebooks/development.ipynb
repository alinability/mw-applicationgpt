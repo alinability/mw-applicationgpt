{
 "cells": [
  {
   "cell_type": "code",
   "execution_count": null,
   "id": "342d679a-e233-416c-8bc8-2fe238e0153d",
   "metadata": {},
   "outputs": [],
   "source": []
  }
 ],
 "metadata": {
  "kernelspec": {
   "display_name": "",
   "name": ""
  },
  "language_info": {
   "name": ""
  }
 },
 "nbformat": 4,
 "nbformat_minor": 5
}
